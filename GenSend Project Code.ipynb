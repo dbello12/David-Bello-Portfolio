{
 "cells": [
  {
   "cell_type": "code",
   "execution_count": 1,
   "id": "de24e5bc",
   "metadata": {},
   "outputs": [],
   "source": [
    "import pandas as pd\n",
    "import numpy as np"
   ]
  },
  {
   "cell_type": "code",
   "execution_count": 2,
   "id": "f9fcf80b",
   "metadata": {},
   "outputs": [],
   "source": [
    "list1 = pd.read_excel(r\"/Users/dbello/Desktop/GenSend Analytics Project_2023/List 1_RAP_Send Relief - GenSend Data.xlsx\")"
   ]
  },
  {
   "cell_type": "code",
   "execution_count": 3,
   "id": "c0ca431d",
   "metadata": {},
   "outputs": [
    {
     "name": "stdout",
     "output_type": "stream",
     "text": [
      "<class 'pandas.core.frame.DataFrame'>\n",
      "RangeIndex: 2421 entries, 0 to 2420\n",
      "Data columns (total 32 columns):\n",
      " #   Column                                    Non-Null Count  Dtype  \n",
      "---  ------                                    --------------  -----  \n",
      " 0   IDP_ID                                    2421 non-null   object \n",
      " 1   FirstName                                 2421 non-null   object \n",
      " 2   LastName                                  2421 non-null   object \n",
      " 3   Email                                     2421 non-null   object \n",
      " 4   Address                                   2405 non-null   object \n",
      " 5   City                                      2405 non-null   object \n",
      " 6   State                                     2405 non-null   object \n",
      " 7   Zip                                       2405 non-null   object \n",
      " 8   DateOfBirth                               2409 non-null   object \n",
      " 9   Age                                       2405 non-null   float64\n",
      " 10  Gender                                    2401 non-null   object \n",
      " 11  Race_Ethnicity                            681 non-null    object \n",
      " 12  Church                                    2307 non-null   object \n",
      " 13  ChurchCity                                2307 non-null   object \n",
      " 14  ChurchState                               2307 non-null   object \n",
      " 15  MinistryLeaderOrPastorAtChurch_FirstName  2407 non-null   object \n",
      " 16  MinistryLeaderOrPastorAtChurch_LastName   2399 non-null   object \n",
      " 17  CurrentChurchPastor                       2421 non-null   object \n",
      " 18  SBC?                                      1784 non-null   float64\n",
      " 19  Has_Work_Experience                       2421 non-null   int64  \n",
      " 20  School                                    2391 non-null   object \n",
      " 21  Field_Of_Study_Or_Degree                  0 non-null      float64\n",
      " 22  Current_Year_In_College                   2313 non-null   object \n",
      " 23  Has_Previous_Ministry_Experience          2421 non-null   int64  \n",
      " 24  Is_Involved_In_Campus_Ministry            2421 non-null   int64  \n",
      " 25  Has_Previous_Missions_Experience          2421 non-null   int64  \n",
      " 26  CityOfService                             1227 non-null   object \n",
      " 27  YearOfService                             2421 non-null   int64  \n",
      " 28  NumberOfSummersServed                     2421 non-null   int64  \n",
      " 29  Has_Ever_Filed_For_Bankruptcy             2354 non-null   object \n",
      " 30  Age_When_Accepted_Christ                  2299 non-null   object \n",
      " 31  Age_When_Baptized                         2367 non-null   object \n",
      "dtypes: float64(3), int64(6), object(23)\n",
      "memory usage: 605.4+ KB\n"
     ]
    }
   ],
   "source": [
    "list1.info()"
   ]
  },
  {
   "cell_type": "code",
   "execution_count": 4,
   "id": "83e5fc59",
   "metadata": {},
   "outputs": [],
   "source": [
    "list2 = pd.read_excel(r\"/Users/dbello/Desktop/GenSend Analytics Project_2023/List 2_Send Relief - GenSend Data.xlsx\")"
   ]
  },
  {
   "cell_type": "code",
   "execution_count": 5,
   "id": "f7b4f097",
   "metadata": {},
   "outputs": [
    {
     "name": "stdout",
     "output_type": "stream",
     "text": [
      "<class 'pandas.core.frame.DataFrame'>\n",
      "RangeIndex: 1601 entries, 0 to 1600\n",
      "Data columns (total 32 columns):\n",
      " #   Column                                    Non-Null Count  Dtype         \n",
      "---  ------                                    --------------  -----         \n",
      " 0   IDP_ID                                    1601 non-null   object        \n",
      " 1   FirstName                                 1601 non-null   object        \n",
      " 2   LastName                                  1601 non-null   object        \n",
      " 3   Email                                     1601 non-null   object        \n",
      " 4   Address                                   1597 non-null   object        \n",
      " 5   City                                      1597 non-null   object        \n",
      " 6   State                                     1597 non-null   object        \n",
      " 7   Zip                                       1597 non-null   object        \n",
      " 8   DateOfBirth                               1597 non-null   datetime64[ns]\n",
      " 9   Age                                       1597 non-null   float64       \n",
      " 10  Gender                                    1595 non-null   object        \n",
      " 11  Race_Ethnicity                            0 non-null      float64       \n",
      " 12  Church                                    1500 non-null   object        \n",
      " 13  ChurchCity                                1500 non-null   object        \n",
      " 14  ChurchState                               1500 non-null   object        \n",
      " 15  MinistryLeaderOrPastorAtChurch_FirstName  0 non-null      float64       \n",
      " 16  MinistryLeaderOrPastorAtChurch_LastName   0 non-null      float64       \n",
      " 17  CurrentChurchPastor                       679 non-null    object        \n",
      " 18  SBC?                                      990 non-null    float64       \n",
      " 19  Has_Work_Experience                       1601 non-null   int64         \n",
      " 20  School                                    1596 non-null   object        \n",
      " 21  Field_Of_Study_Or_Degree                  1218 non-null   object        \n",
      " 22  Current_Year_In_College                   1526 non-null   object        \n",
      " 23  Has_Previous_Ministry_Experience          1601 non-null   int64         \n",
      " 24  Is_Involved_In_Campus_Ministry            1601 non-null   int64         \n",
      " 25  Has_Previous_Missions_Experience          1601 non-null   int64         \n",
      " 26  CityOfService                             1223 non-null   object        \n",
      " 27  YearOfService                             1601 non-null   int64         \n",
      " 28  NumberOfSummersServed                     1601 non-null   int64         \n",
      " 29  Has_Ever_Filed_For_Bankruptcy             0 non-null      float64       \n",
      " 30  Age_When_Accepted_Christ                  1491 non-null   object        \n",
      " 31  Age_When_Baptized                         0 non-null      float64       \n",
      "dtypes: datetime64[ns](1), float64(7), int64(6), object(18)\n",
      "memory usage: 400.4+ KB\n"
     ]
    }
   ],
   "source": [
    "list2.info()"
   ]
  },
  {
   "cell_type": "code",
   "execution_count": 6,
   "id": "bd516f2c",
   "metadata": {},
   "outputs": [],
   "source": [
    "# list all the elements from list2 that are not found in list1.\n",
    "main_list = list(set(list2[\"IDP_ID\"]) - set(list1[\"IDP_ID\"]))"
   ]
  },
  {
   "cell_type": "code",
   "execution_count": null,
   "id": "72c49741",
   "metadata": {},
   "outputs": [],
   "source": []
  },
  {
   "cell_type": "code",
   "execution_count": 15,
   "id": "fa597aba",
   "metadata": {},
   "outputs": [
    {
     "data": {
      "text/plain": [
       "[]"
      ]
     },
     "execution_count": 15,
     "metadata": {},
     "output_type": "execute_result"
    }
   ],
   "source": [
    "main_list"
   ]
  },
  {
   "cell_type": "markdown",
   "id": "512e3404",
   "metadata": {},
   "source": [
    "#### Everyone from list2 in on list1. list1 is a more complete set."
   ]
  },
  {
   "cell_type": "code",
   "execution_count": 8,
   "id": "ee4d4f60",
   "metadata": {},
   "outputs": [],
   "source": [
    "us_state_to_abbrev = {\n",
    "    \"Alabama\": \"AL\",\n",
    "    \"Alaska\": \"AK\",\n",
    "    \"Arizona\": \"AZ\",\n",
    "    \"Arkansas\": \"AR\",\n",
    "    \"California\": \"CA\",\n",
    "    \"Colorado\": \"CO\",\n",
    "    \"Connecticut\": \"CT\",\n",
    "    \"Delaware\": \"DE\",\n",
    "    \"Florida\": \"FL\",\n",
    "    \"Georgia\": \"GA\",\n",
    "    \"Hawaii\": \"HI\",\n",
    "    \"Idaho\": \"ID\",\n",
    "    \"Illinois\": \"IL\",\n",
    "    \"Indiana\": \"IN\",\n",
    "    \"Iowa\": \"IA\",\n",
    "    \"Kansas\": \"KS\",\n",
    "    \"Kentucky\": \"KY\",\n",
    "    \"Louisiana\": \"LA\",\n",
    "    \"Maine\": \"ME\",\n",
    "    \"Maryland\": \"MD\",\n",
    "    \"Massachusetts\": \"MA\",\n",
    "    \"Michigan\": \"MI\",\n",
    "    \"Minnesota\": \"MN\",\n",
    "    \"Mississippi\": \"MS\",\n",
    "    \"Missouri\": \"MO\",\n",
    "    \"Montana\": \"MT\",\n",
    "    \"Nebraska\": \"NE\",\n",
    "    \"Nevada\": \"NV\",\n",
    "    \"New Hampshire\": \"NH\",\n",
    "    \"New Jersey\": \"NJ\",\n",
    "    \"New Mexico\": \"NM\",\n",
    "    \"New York\": \"NY\",\n",
    "    \"North Carolina\": \"NC\",\n",
    "    \"North Dakota\": \"ND\",\n",
    "    \"Ohio\": \"OH\",\n",
    "    \"Oklahoma\": \"OK\",\n",
    "    \"Oregon\": \"OR\",\n",
    "    \"Pennsylvania\": \"PA\",\n",
    "    \"Rhode Island\": \"RI\",\n",
    "    \"South Carolina\": \"SC\",\n",
    "    \"South Dakota\": \"SD\",\n",
    "    \"Tennessee\": \"TN\",\n",
    "    \"Texas\": \"TX\",\n",
    "    \"Utah\": \"UT\",\n",
    "    \"Vermont\": \"VT\",\n",
    "    \"Virginia\": \"VA\",\n",
    "    \"Washington\": \"WA\",\n",
    "    \"West Virginia\": \"WV\",\n",
    "    \"Wisconsin\": \"WI\",\n",
    "    \"Wyoming\": \"WY\",\n",
    "    \"District of Columbia\": \"DC\",\n",
    "    \"American Samoa\": \"AS\",\n",
    "    \"Guam\": \"GU\",\n",
    "    \"Northern Mariana Islands\": \"MP\",\n",
    "    \"Puerto Rico\": \"PR\",\n",
    "    \"United States Minor Outlying Islands\": \"UM\",\n",
    "    \"U.S. Virgin Islands\": \"VI\",\n",
    "}"
   ]
  },
  {
   "cell_type": "code",
   "execution_count": 9,
   "id": "51b7e78a",
   "metadata": {},
   "outputs": [],
   "source": [
    "my_list = list(us_state_to_abbrev.keys())\n",
    "# my_list"
   ]
  },
  {
   "cell_type": "code",
   "execution_count": 10,
   "id": "be4b701b",
   "metadata": {},
   "outputs": [
    {
     "name": "stderr",
     "output_type": "stream",
     "text": [
      "/var/folders/w3/vqfl42wd3fd53hbr0f08dkmshgfxtc/T/ipykernel_9013/2872395570.py:4: SettingWithCopyWarning: \n",
      "A value is trying to be set on a copy of a slice from a DataFrame\n",
      "\n",
      "See the caveats in the documentation: https://pandas.pydata.org/pandas-docs/stable/user_guide/indexing.html#returning-a-view-versus-a-copy\n",
      "  list1['ChurchState'][index] = us_state_to_abbrev[list1['ChurchState'][index]]\n"
     ]
    }
   ],
   "source": [
    "# Replace church state name for abbreviation\n",
    "# Iterate all rows using DataFrame.iterrows()\n",
    "for index in list1.index:\n",
    "    if list1['ChurchState'][index] in us_state_to_abbrev.keys():\n",
    "        list1['ChurchState'][index] = us_state_to_abbrev[list1['ChurchState'][index]]"
   ]
  },
  {
   "cell_type": "code",
   "execution_count": 16,
   "id": "5c893f87",
   "metadata": {},
   "outputs": [
    {
     "name": "stderr",
     "output_type": "stream",
     "text": [
      "/var/folders/w3/vqfl42wd3fd53hbr0f08dkmshgfxtc/T/ipykernel_9013/2846432015.py:5: SettingWithCopyWarning: \n",
      "A value is trying to be set on a copy of a slice from a DataFrame\n",
      "\n",
      "See the caveats in the documentation: https://pandas.pydata.org/pandas-docs/stable/user_guide/indexing.html#returning-a-view-versus-a-copy\n",
      "  list1['State'][index] = us_state_to_abbrev[list1['State'][index]]\n"
     ]
    }
   ],
   "source": [
    "# Replace home state name for abbreviation\n",
    "# Iterate all rows using DataFrame.iterrows()\n",
    "for index in list1.index:\n",
    "    if list1['State'][index] in us_state_to_abbrev.keys():\n",
    "        list1['State'][index] = us_state_to_abbrev[list1['State'][index]]"
   ]
  },
  {
   "cell_type": "code",
   "execution_count": 17,
   "id": "07e69a06",
   "metadata": {},
   "outputs": [],
   "source": [
    "# list1['ChurchState'] = list1['ChurchState'].map(us_state_to_abbrev)"
   ]
  },
  {
   "cell_type": "code",
   "execution_count": 18,
   "id": "11ba81e2",
   "metadata": {},
   "outputs": [
    {
     "data": {
      "text/plain": [
       "0       AL\n",
       "1       AR\n",
       "2       AR\n",
       "3       AR\n",
       "4       TX\n",
       "        ..\n",
       "2416    MS\n",
       "2417    OH\n",
       "2418    OH\n",
       "2419    AL\n",
       "2420    TX\n",
       "Name: State, Length: 2421, dtype: object"
      ]
     },
     "execution_count": 18,
     "metadata": {},
     "output_type": "execute_result"
    }
   ],
   "source": [
    "list1['State']"
   ]
  },
  {
   "cell_type": "code",
   "execution_count": 13,
   "id": "1222523f",
   "metadata": {},
   "outputs": [],
   "source": [
    "# Delete \"Field_Of_Study_Or_Degree\" column\n",
    "del list1[\"Field_Of_Study_Or_Degree\"]"
   ]
  },
  {
   "cell_type": "code",
   "execution_count": 19,
   "id": "f8e30e20",
   "metadata": {},
   "outputs": [],
   "source": [
    "list1.to_excel(\"List 1_RAP_SR_GenSend Data.xlsx\")"
   ]
  },
  {
   "cell_type": "code",
   "execution_count": null,
   "id": "72c38507",
   "metadata": {},
   "outputs": [],
   "source": []
  },
  {
   "cell_type": "code",
   "execution_count": null,
   "id": "63d749f7",
   "metadata": {},
   "outputs": [],
   "source": []
  },
  {
   "cell_type": "code",
   "execution_count": null,
   "id": "769cd7d8",
   "metadata": {},
   "outputs": [],
   "source": []
  },
  {
   "cell_type": "code",
   "execution_count": null,
   "id": "de34f87f",
   "metadata": {},
   "outputs": [],
   "source": []
  },
  {
   "cell_type": "code",
   "execution_count": null,
   "id": "eeb61bfc",
   "metadata": {},
   "outputs": [],
   "source": []
  },
  {
   "cell_type": "code",
   "execution_count": null,
   "id": "f04091a3",
   "metadata": {},
   "outputs": [],
   "source": []
  },
  {
   "cell_type": "code",
   "execution_count": null,
   "id": "6e97b1a5",
   "metadata": {},
   "outputs": [],
   "source": []
  },
  {
   "cell_type": "code",
   "execution_count": null,
   "id": "2b5c9284",
   "metadata": {},
   "outputs": [],
   "source": []
  },
  {
   "cell_type": "code",
   "execution_count": null,
   "id": "532d5342",
   "metadata": {},
   "outputs": [],
   "source": []
  },
  {
   "cell_type": "code",
   "execution_count": null,
   "id": "2db94e0d",
   "metadata": {},
   "outputs": [],
   "source": []
  }
 ],
 "metadata": {
  "kernelspec": {
   "display_name": "Python 3",
   "language": "python",
   "name": "python3"
  },
  "language_info": {
   "codemirror_mode": {
    "name": "ipython",
    "version": 3
   },
   "file_extension": ".py",
   "mimetype": "text/x-python",
   "name": "python",
   "nbconvert_exporter": "python",
   "pygments_lexer": "ipython3",
   "version": "3.9.7"
  }
 },
 "nbformat": 4,
 "nbformat_minor": 5
}
